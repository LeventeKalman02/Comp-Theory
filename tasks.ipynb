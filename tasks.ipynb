{
 "cells": [
  {
   "cell_type": "markdown",
   "metadata": {},
   "source": [
    "**Task 1: Binary Representations**\n",
    "==============================\n",
    "\n",
    "Create the following functions in Python, demonstrating their use with examples and tests.\n",
    "\n",
    "1. The function **rotl(x, n=1)** that rotates the bits in a 32-bit unsigned integer to the left n places.\n",
    "\n",
    "2. The function **rotr(x, n=1)** that rotates the bits in a 32-bit unsigned integer to the right n places.\n",
    "\n",
    "3. The function **ch(x, y, z)** that chooses the bits from y where x has bits set to 1 and bits in z where x has bits set to 0.\n",
    "\n",
    "4. The function **maj(x, y, z)** which takes a majority vote of the bits in x, y, and z. \n",
    "The output should have a 1 in bit position i where at least two of x, y, and z have 1's in position i.\n",
    "All other output bit positions should be 0."
   ]
  },
  {
   "cell_type": "code",
   "execution_count": null,
   "metadata": {},
   "outputs": [],
   "source": [
    "# Function to rotate left\n",
    "def rotl(x: int, n: int = 1) -> int:\n",
    "    \"\"\"Rotate the bits in a 32-bit unsigned integer to the left n places.\"\"\"\n",
    "    n = n % 32  # Ensure n is within a valid range\n",
    "    return ((x << n) | (x >> (32 - n))) & 0xFFFFFFFF"
   ]
  },
  {
   "cell_type": "code",
   "execution_count": null,
   "metadata": {},
   "outputs": [],
   "source": [
    "# Function to rotate right\n",
    "def rotr(x: int, n: int = 1) -> int:\n",
    "    \"\"\"Rotate the bits in a 32-bit unsigned integer to the right n places.\"\"\"\n",
    "    n = n % 32  # Ensure n is within a valid range\n",
    "    return ((x >> n) | (x << (32 - n))) & 0xFFFFFFFF\n"
   ]
  },
  {
   "cell_type": "code",
   "execution_count": null,
   "metadata": {},
   "outputs": [],
   "source": [
    "# Function that chooses the bits\n",
    "def ch(x: int, y: int, z: int) -> int:\n",
    "    \"\"\"Choose bits from y where x has bits set to 1, and bits from z where x has bits set to 0.\"\"\"\n",
    "    return (x & y) | (~x & z)\n"
   ]
  },
  {
   "cell_type": "code",
   "execution_count": null,
   "metadata": {},
   "outputs": [],
   "source": [
    "# Function that takes the majority vote\n",
    "def maj(x: int, y: int, z: int) -> int:\n",
    "    \"\"\"Majority function: bit is 1 where at least two of x, y, z have 1's.\"\"\"\n",
    "    return (x & y) | (x & z) | (y & z)"
   ]
  },
  {
   "cell_type": "code",
   "execution_count": null,
   "metadata": {},
   "outputs": [],
   "source": [
    "# Test function of Task 1\n",
    "# Example usage and tests\n",
    "if __name__ == \"__main__\":\n",
    "    # Test values\n",
    "    x, y, z = 0b10101010101010101010101010101010, 0b11001100110011001100110011001100, 0b11110000111100001111000011110000\n",
    "    \n",
    "    print(f\"rotl({bin(x)}, 3)  -> {bin(rotl(x, 3))}\")\n",
    "    print(f\"rotr({bin(x)}, 3)  -> {bin(rotr(x, 3))}\")\n",
    "    print(f\"ch({bin(x)}, {bin(y)}, {bin(z)}) -> {bin(ch(x, y, z))}\")\n",
    "    print(f\"maj({bin(x)}, {bin(y)}, {bin(z)}) -> {bin(maj(x, y, z))}\")\n",
    "    \n",
    "    # Additional tests\n",
    "    assert rotl(0x12345678, 4) == 0x23456781\n",
    "    assert rotr(0x12345678, 4) == 0x81234567\n",
    "    assert ch(0xF0F0F0F0, 0xAAAAAAAA, 0x55555555) == 0xAAAA5555\n",
    "    assert maj(0xF0F0F0F0, 0xAAAAAAAA, 0x55555555) == 0xF0F0F0F0\n",
    "    \n",
    "    # New test cases\n",
    "    assert ch(0xFFFFFFFF, 0xAAAAAAAA, 0x55555555) == 0xAAAAAAAA\n",
    "    assert maj(0xAAAAAAAA, 0xAAAAAAAA, 0x55555555) == 0xAAAAAAAA\n",
    "    assert ch(0x00000000, 0xAAAAAAAA, 0x55555555) == 0x55555555\n",
    "    assert maj(0xFFFFFFFF, 0xFFFFFFFF, 0x00000000) == 0xFFFFFFFF  \n",
    "    \n",
    "    print(\"All tests passed!\")"
   ]
  },
  {
   "cell_type": "markdown",
   "metadata": {},
   "source": [
    "**Task 2: Hash Functions**\n",
    "======================\n",
    "\n",
    "The following hash function is from The C Programming Language by Brian Kernighan and Dennis Ritchie.\n",
    "\n",
    "Convert it to Python, test it, and suggest why the values 31 and 101 are used.\n",
    "\n",
    "```\n",
    "unsigned hash(char *s) {\n",
    "    unsigned hashval;\n",
    "    for (hashval = 0; *s != '\\0'; s++)\n",
    "        hashval = *s + 31 * hashval;\n",
    "    return hashval % 101;\n",
    "}\n",
    "```\n"
   ]
  },
  {
   "cell_type": "code",
   "execution_count": null,
   "metadata": {},
   "outputs": [],
   "source": [
    "def kr_hash(s: str) -> int:\n",
    "    \"\"\"Kernighan & Ritchie hash function implementation in Python.\"\"\"\n",
    "    hashval = 0\n",
    "    for char in s:\n",
    "        hashval = ord(char) + 31 * hashval\n",
    "    return hashval % 101\n"
   ]
  },
  {
   "cell_type": "code",
   "execution_count": null,
   "metadata": {},
   "outputs": [],
   "source": [
    "# Test for Task 2\n",
    "if __name__ == \"__main__\":\n",
    "    test_strings = [\"hello\", \"world\", \"python\", \"hash\", \"function\"]\n",
    "    for s in test_strings:\n",
    "        print(f\"kr_hash('{s}') = {kr_hash(s)}\")\n",
    "    \n",
    "    # Assertions for correctness\n",
    "    assert kr_hash(\"hello\") == kr_hash(\"hello\")  # Consistency check\n",
    "    assert kr_hash(\"abc\") != kr_hash(\"acb\")  # Small changes should lead to different hashes\n",
    "    print(\"All tests passed!\")\n"
   ]
  },
  {
   "cell_type": "markdown",
   "metadata": {},
   "source": [
    "**Explanation of Constants**\n",
    "------------------------\n",
    "\n",
    "**31 as a multiplier:**\n",
    "\n",
    "31 is chosen because it is a prime number, which helps evenly distribute hash values and reduce collisions.\n",
    "It provides a good balance between performance and distribution.\n",
    "\n",
    "**101 as a modulus:**\n",
    "\n",
    "101 is also a prime number, ensuring better dispersion of hash values.\n",
    "It keeps the hash values in a manageable range, preventing overflow in constrained environments."
   ]
  },
  {
   "cell_type": "markdown",
   "metadata": {},
   "source": [
    "**Task 3: SHA256**\n",
    "==============\n",
    "\n",
    "Write a Python function that calculates the SHA256 padding for a given file.\n",
    "\n",
    "The function should take a file path as input.\n",
    "\n",
    "It should print, in hex, the padding that would be applied to it.\n",
    "\n",
    "The specification states that the following should be appended to a message:\n",
    "\n",
    "- a1 bit;\n",
    "- enough 0 bits so the length in bits of padded message is the smallest possible multiple of 512;\n",
    "- the length in bits of the original input as a big-endian 64-bit unsigned integer.\n",
    "\n",
    "The example in the specification is a file containing the three bytes abc:\n",
    "\n",
    "``\n",
    "01100001 01100010 01100011\n",
    "``\n",
    "\n",
    "The output would be:\n",
    "\n",
    "``\n",
    "80 00 00 00 00 00 00 00 00 00 00 00 00 00 00 00 00 00 00 00 00 00 00 00 00 00\n",
    "00 00 00 00 00 00 00 00 00 00 00 00 00 00 00 00 00 00 00 00 00 00 00 00 00 00\n",
    "00 00 00 00 00 00 00 00 18\n",
    "``"
   ]
  },
  {
   "cell_type": "code",
   "execution_count": null,
   "metadata": {},
   "outputs": [],
   "source": [
    "#imports\n",
    "import os"
   ]
  },
  {
   "cell_type": "code",
   "execution_count": null,
   "metadata": {},
   "outputs": [],
   "source": [
    "def sha256_padding(file_path: str):\n",
    "    \"\"\"Calculate and print SHA-256 padding for a given file.\"\"\"\n",
    "    file_size = os.path.getsize(file_path)\n",
    "    bit_length = file_size * 8\n",
    "    \n",
    "    padding = b'\\x80'  # Append a single '1' bit (0x80 in hex)\n",
    "    padding_length = (56 - (file_size + 1) % 64) % 64\n",
    "    padding += b'\\x00' * padding_length\n",
    "    padding += bit_length.to_bytes(8, 'big')\n",
    "\n",
    "    \"\"\"The message that is printed out\"\"\"\n",
    "    message = (\n",
    "        \"1 bit: 0x80\\n\"\n",
    "        f\"Zero bits: {padding_length} (in hex: {'00' * padding_length})\\n\"\n",
    "        f\"Length in bits: {bit_length} (in hex: {bit_length.to_bytes(8, 'big').hex()})\"\n",
    "    )\n",
    "    \n",
    "    print(message)"
   ]
  },
  {
   "cell_type": "code",
   "execution_count": null,
   "metadata": {},
   "outputs": [],
   "source": [
    "# Test case for Task 3\n",
    "if __name__ == \"__main__\":\n",
    "    file_path = \"example.txt\"  # Replace with an actual file path\n",
    "    sha256_padding(file_path)"
   ]
  },
  {
   "cell_type": "markdown",
   "metadata": {},
   "source": [
    "**Task 4: Prime Numbers**\n",
    "=======================\n",
    "\n",
    "Calculate the first 1,000 prime numbers using two different algorithms.\n",
    "\n",
    "Any algorithms that are well-established and works correctly are okay to use.\n",
    "\n",
    "Explain how the algorithms work."
   ]
  },
  {
   "cell_type": "code",
   "execution_count": null,
   "metadata": {},
   "outputs": [],
   "source": [
    "#imports\n",
    "import math"
   ]
  },
  {
   "cell_type": "code",
   "execution_count": null,
   "metadata": {},
   "outputs": [],
   "source": [
    "def is_prime(n, primes):\n",
    "    \"\"\"Check if n is prime using trial division with known primes.\"\"\"\n",
    "    if n < 2:\n",
    "        return False\n",
    "    for p in primes:\n",
    "        if p * p > n:\n",
    "            break\n",
    "        if n % p == 0:\n",
    "            return False\n",
    "    return True"
   ]
  },
  {
   "cell_type": "code",
   "execution_count": null,
   "metadata": {},
   "outputs": [],
   "source": [
    "\"\"\"Trial Division (Brute Force) – A straightforward approach that checks if a number is prime by dividing it by all previous primes.\"\"\"\n",
    "def trial_division_primes(count):\n",
    "    \"\"\"Find the first 'count' prime numbers using trial division.\"\"\"\n",
    "    primes = []\n",
    "    num = 2\n",
    "    while len(primes) < count:\n",
    "        if is_prime(num, primes):\n",
    "            primes.append(num)\n",
    "        num += 1\n",
    "    return primes"
   ]
  },
  {
   "cell_type": "code",
   "execution_count": null,
   "metadata": {},
   "outputs": [],
   "source": [
    "\"\"\"Sieve of Eratosthenes – A highly efficient algorithm that precomputes primes up to a limit using a boolean array.\"\"\"\n",
    "def sieve_of_eratosthenes(limit):\n",
    "    \"\"\"Find all prime numbers up to 'limit' using the Sieve of Eratosthenes.\"\"\"\n",
    "    sieve = [True] * (limit + 1)\n",
    "    sieve[0] = sieve[1] = False\n",
    "    for start in range(2, int(math.sqrt(limit)) + 1):\n",
    "        if sieve[start]:\n",
    "            for multiple in range(start * start, limit + 1, start):\n",
    "                sieve[multiple] = False\n",
    "    return [num for num, is_prime in enumerate(sieve) if is_prime][:1000]"
   ]
  },
  {
   "cell_type": "code",
   "execution_count": null,
   "metadata": {},
   "outputs": [],
   "source": [
    "# Test for Task 4 \n",
    "if __name__ == \"__main__\":\n",
    "    primes_trial_division = trial_division_primes(1000)\n",
    "    primes_sieve = sieve_of_eratosthenes(10000)  # Ensure the limit is high enough\n",
    "    \n",
    "    print(\"First 10 primes using Trial Division:\", primes_trial_division[:10]) # Change the value at the end to get more prime numbers\n",
    "    print(\"First 10 primes using Sieve of Eratosthenes:\", primes_sieve[:10]) # Change the value at the end to get more prime numbers"
   ]
  },
  {
   "cell_type": "markdown",
   "metadata": {},
   "source": [
    "**Explanation of the Algorithms**\n",
    "-------------------------------\n",
    "\n",
    "**Trial Division:**\n",
    "\n",
    "- Starts from 2 and checks each number for primality.\n",
    "- A number is prime if it's not divisible by any smaller prime.\n",
    "- Stops checking when the divisor squared exceeds the number.\n",
    "- This method is simple but slow for large values.\n",
    "\n",
    "**Sieve of Eratosthenes:**\n",
    "\n",
    "- Uses a boolean array to mark multiples of each number as non-prime.\n",
    "- Iterates only up to the square root of the limit.\n",
    "- Extracts primes efficiently in O(n log log n) time."
   ]
  },
  {
   "cell_type": "markdown",
   "metadata": {},
   "source": [
    "**Task 5: Roots**\n",
    "===============\n",
    "\n",
    "Calculate the first 32 bits of the fractional part of the square roots or the first 100 prime numbers."
   ]
  },
  {
   "cell_type": "code",
   "execution_count": null,
   "metadata": {},
   "outputs": [],
   "source": [
    "import math"
   ]
  },
  {
   "cell_type": "code",
   "execution_count": null,
   "metadata": {},
   "outputs": [],
   "source": [
    "def sieve_of_eratosthenes(n):\n",
    "    \"\"\"Find the first n prime numbers.\"\"\"\n",
    "    limit = 10**4 # A high enough limit to find 100 primes\n",
    "    sieve = [True] * (limit + 1)\n",
    "    sieve[0] = sieve[1] = False\n",
    "    primes = []\n",
    "    for num in range(2, limit + 1):\n",
    "        if sieve[num]:\n",
    "            primes.append(num)\n",
    "            if len(primes) == n:\n",
    "                break\n",
    "            for multiple in range(num * num, limit + 1, num):\n",
    "                sieve[multiple] = False\n",
    "        if len(primes) >= n:\n",
    "                break\n",
    "    return primes"
   ]
  },
  {
   "cell_type": "code",
   "execution_count": null,
   "metadata": {},
   "outputs": [],
   "source": [
    "def fractional_bits_sqrt(primes, bits=32):\n",
    "    \"\"\"Compute the first 32 bits of the fractional part of sqrt(prime).\"\"\"\n",
    "    result = {}\n",
    "    for prime in primes:\n",
    "        sqrt_val = math.sqrt(prime)\n",
    "        frac_part = sqrt_val % 1  # Get fractional part\n",
    "        binary_rep = format(int(frac_part * (2**bits)), f'0{bits}b')  # Convert to 32-bit binary\n",
    "        result[prime] = binary_rep\n",
    "    return result"
   ]
  },
  {
   "cell_type": "code",
   "execution_count": null,
   "metadata": {},
   "outputs": [],
   "source": [
    "# Test for Task 5\n",
    "if __name__ == \"__main__\":\n",
    "    primes = sieve_of_eratosthenes(100)\n",
    "    fractional_bits = fractional_bits_sqrt(primes)\n",
    "    \n",
    "    for prime, bits in list(fractional_bits.items())[:10]:  # Display first 10 results\n",
    "        print(f\"Prime: {prime}, Fractional Bits: {bits}\")"
   ]
  },
  {
   "cell_type": "markdown",
   "metadata": {},
   "source": [
    "**Task 6: Proof of Work**\n",
    "=======================\n",
    "\n",
    "Find the word(s) in the English language with the greatest number of 0 bits at the beginning of their SHA256 hash digest.\n",
    "\n",
    "Include proof that any word you list is in at least one English dictionary."
   ]
  },
  {
   "cell_type": "code",
   "execution_count": 15,
   "metadata": {},
   "outputs": [],
   "source": [
    "import hashlib\n",
    "import nltk\n",
    "from nltk.corpus import words"
   ]
  },
  {
   "cell_type": "code",
   "execution_count": 16,
   "metadata": {},
   "outputs": [],
   "source": [
    "def sha256_leading_zero_bits(word):\n",
    "    \"\"\"Compute the SHA256 hash of a word and count leading zero bits.\"\"\"\n",
    "    hash_digest = hashlib.sha256(word.encode()).hexdigest()\n",
    "    binary_hash = bin(int(hash_digest, 16))[2:].zfill(256)  # Convert to binary with leading zeros\n",
    "    return len(binary_hash) - len(binary_hash.lstrip('0'))  # Count leading zeros"
   ]
  },
  {
   "cell_type": "code",
   "execution_count": 17,
   "metadata": {},
   "outputs": [],
   "source": [
    "def find_best_words(word_list):\n",
    "    \"\"\"Find words with the most leading zero bits in their SHA256 hash.\"\"\"\n",
    "    max_zero_bits = 0\n",
    "    best_words = []\n",
    "    for word in word_list:\n",
    "        zero_bits = sha256_leading_zero_bits(word)\n",
    "        if zero_bits > max_zero_bits:\n",
    "            max_zero_bits = zero_bits\n",
    "            best_words = [word]\n",
    "        elif zero_bits == max_zero_bits:\n",
    "            best_words.append(word)\n",
    "    return best_words, max_zero_bits"
   ]
  },
  {
   "cell_type": "code",
   "execution_count": 18,
   "metadata": {},
   "outputs": [
    {
     "name": "stdout",
     "output_type": "stream",
     "text": [
      "Words with the most leading 0 bits (16):\n",
      "mismatchment\n",
      "guilefulness\n"
     ]
    }
   ],
   "source": [
    "# Download NLTK word list if not already downloaded\n",
    "#nltk.download('words')\n",
    "\n",
    "english_words = set(words.words())  # Load English words\n",
    "\n",
    "best_words, max_zeros = find_best_words(english_words)\n",
    "\n",
    "print(f\"Words with the most leading 0 bits ({max_zeros}):\")\n",
    "for word in best_words:\n",
    "    print(word)"
   ]
  },
  {
   "cell_type": "markdown",
   "metadata": {},
   "source": [
    "**Task 7: Turing Machines**\n",
    "=========================\n",
    "\n",
    "Design a Turing Machine that adds 1 to a binary number on its tape.\n",
    "\n",
    "The machine should start at the left-most non-blank symbol.\n",
    "\n",
    "It should treat the right-most symbol as the least significant bit.\n",
    "\n",
    "For example, suppose the following is on the tape at the start:\n",
    "\n",
    "``\n",
    "100111\n",
    "``\n",
    "\n",
    "Your Turing machine should leave the following on the tape when it completes:\n",
    "\n",
    "``\n",
    "101000\n",
    "``"
   ]
  },
  {
   "cell_type": "code",
   "execution_count": 13,
   "metadata": {},
   "outputs": [],
   "source": [
    "def turing_machine_add_one(tape):\n",
    "    \"\"\"Simulate a Turing Machine that adds 1 to a binary number on its tape.\"\"\"\n",
    "    tape = list(tape)\n",
    "    head = len(tape) - 1  # Start at the right-most symbol (least significant bit)\n",
    "    \n",
    "    while head >= 0:\n",
    "        if tape[head] == '0':\n",
    "            tape[head] = '1'\n",
    "            break\n",
    "        else:\n",
    "            tape[head] = '0'\n",
    "            head -= 1\n",
    "    \n",
    "    if head < 0:\n",
    "        tape.insert(0, '1')  # If we have carried all the way to the left, add a new '1' at the beginning\n",
    "    \n",
    "    return ''.join(tape)"
   ]
  },
  {
   "cell_type": "code",
   "execution_count": 14,
   "metadata": {},
   "outputs": [
    {
     "name": "stdout",
     "output_type": "stream",
     "text": [
      "Initial tape: 100111\n",
      "Result tape: 101000\n"
     ]
    }
   ],
   "source": [
    "# Example usage\n",
    "initial_tape = \"100111\"\n",
    "result_tape = turing_machine_add_one(initial_tape)\n",
    "print(f\"Initial tape: {initial_tape}\")\n",
    "print(f\"Result tape: {result_tape}\")"
   ]
  },
  {
   "cell_type": "markdown",
   "metadata": {},
   "source": [
    "**Task 8: Computational Complexity**\n",
    "==================================\n",
    "\n",
    "Implement bubble sort in Python, modifying it to count the number of comparisons made during sorting.\n",
    "\n",
    "Use this function to sort all permutations of the list:\n",
    "\n",
    "``\n",
    "L = [1, 2, 3, 4, 5]\n",
    "``\n",
    "\n",
    "For each permutation, print the permutation itself followed by the number of comparisons required to sort it."
   ]
  },
  {
   "cell_type": "code",
   "execution_count": 10,
   "metadata": {},
   "outputs": [],
   "source": [
    "import itertools"
   ]
  },
  {
   "cell_type": "code",
   "execution_count": 11,
   "metadata": {},
   "outputs": [
    {
     "name": "stdout",
     "output_type": "stream",
     "text": [
      "Permutation: (1, 2, 3, 4, 5), Comparisons: 10\n",
      "Permutation: (1, 2, 3, 5, 4), Comparisons: 10\n",
      "Permutation: (1, 2, 4, 3, 5), Comparisons: 10\n",
      "Permutation: (1, 2, 4, 5, 3), Comparisons: 10\n",
      "Permutation: (1, 2, 5, 3, 4), Comparisons: 10\n",
      "Permutation: (1, 2, 5, 4, 3), Comparisons: 10\n",
      "Permutation: (1, 3, 2, 4, 5), Comparisons: 10\n",
      "Permutation: (1, 3, 2, 5, 4), Comparisons: 10\n",
      "Permutation: (1, 3, 4, 2, 5), Comparisons: 10\n",
      "Permutation: (1, 3, 4, 5, 2), Comparisons: 10\n",
      "Permutation: (1, 3, 5, 2, 4), Comparisons: 10\n",
      "Permutation: (1, 3, 5, 4, 2), Comparisons: 10\n",
      "Permutation: (1, 4, 2, 3, 5), Comparisons: 10\n",
      "Permutation: (1, 4, 2, 5, 3), Comparisons: 10\n",
      "Permutation: (1, 4, 3, 2, 5), Comparisons: 10\n",
      "Permutation: (1, 4, 3, 5, 2), Comparisons: 10\n",
      "Permutation: (1, 4, 5, 2, 3), Comparisons: 10\n",
      "Permutation: (1, 4, 5, 3, 2), Comparisons: 10\n",
      "Permutation: (1, 5, 2, 3, 4), Comparisons: 10\n",
      "Permutation: (1, 5, 2, 4, 3), Comparisons: 10\n",
      "Permutation: (1, 5, 3, 2, 4), Comparisons: 10\n",
      "Permutation: (1, 5, 3, 4, 2), Comparisons: 10\n",
      "Permutation: (1, 5, 4, 2, 3), Comparisons: 10\n",
      "Permutation: (1, 5, 4, 3, 2), Comparisons: 10\n",
      "Permutation: (2, 1, 3, 4, 5), Comparisons: 10\n",
      "Permutation: (2, 1, 3, 5, 4), Comparisons: 10\n",
      "Permutation: (2, 1, 4, 3, 5), Comparisons: 10\n",
      "Permutation: (2, 1, 4, 5, 3), Comparisons: 10\n",
      "Permutation: (2, 1, 5, 3, 4), Comparisons: 10\n",
      "Permutation: (2, 1, 5, 4, 3), Comparisons: 10\n",
      "Permutation: (2, 3, 1, 4, 5), Comparisons: 10\n",
      "Permutation: (2, 3, 1, 5, 4), Comparisons: 10\n",
      "Permutation: (2, 3, 4, 1, 5), Comparisons: 10\n",
      "Permutation: (2, 3, 4, 5, 1), Comparisons: 10\n",
      "Permutation: (2, 3, 5, 1, 4), Comparisons: 10\n",
      "Permutation: (2, 3, 5, 4, 1), Comparisons: 10\n",
      "Permutation: (2, 4, 1, 3, 5), Comparisons: 10\n",
      "Permutation: (2, 4, 1, 5, 3), Comparisons: 10\n",
      "Permutation: (2, 4, 3, 1, 5), Comparisons: 10\n",
      "Permutation: (2, 4, 3, 5, 1), Comparisons: 10\n",
      "Permutation: (2, 4, 5, 1, 3), Comparisons: 10\n",
      "Permutation: (2, 4, 5, 3, 1), Comparisons: 10\n",
      "Permutation: (2, 5, 1, 3, 4), Comparisons: 10\n",
      "Permutation: (2, 5, 1, 4, 3), Comparisons: 10\n",
      "Permutation: (2, 5, 3, 1, 4), Comparisons: 10\n",
      "Permutation: (2, 5, 3, 4, 1), Comparisons: 10\n",
      "Permutation: (2, 5, 4, 1, 3), Comparisons: 10\n",
      "Permutation: (2, 5, 4, 3, 1), Comparisons: 10\n",
      "Permutation: (3, 1, 2, 4, 5), Comparisons: 10\n",
      "Permutation: (3, 1, 2, 5, 4), Comparisons: 10\n",
      "Permutation: (3, 1, 4, 2, 5), Comparisons: 10\n",
      "Permutation: (3, 1, 4, 5, 2), Comparisons: 10\n",
      "Permutation: (3, 1, 5, 2, 4), Comparisons: 10\n",
      "Permutation: (3, 1, 5, 4, 2), Comparisons: 10\n",
      "Permutation: (3, 2, 1, 4, 5), Comparisons: 10\n",
      "Permutation: (3, 2, 1, 5, 4), Comparisons: 10\n",
      "Permutation: (3, 2, 4, 1, 5), Comparisons: 10\n",
      "Permutation: (3, 2, 4, 5, 1), Comparisons: 10\n",
      "Permutation: (3, 2, 5, 1, 4), Comparisons: 10\n",
      "Permutation: (3, 2, 5, 4, 1), Comparisons: 10\n",
      "Permutation: (3, 4, 1, 2, 5), Comparisons: 10\n",
      "Permutation: (3, 4, 1, 5, 2), Comparisons: 10\n",
      "Permutation: (3, 4, 2, 1, 5), Comparisons: 10\n",
      "Permutation: (3, 4, 2, 5, 1), Comparisons: 10\n",
      "Permutation: (3, 4, 5, 1, 2), Comparisons: 10\n",
      "Permutation: (3, 4, 5, 2, 1), Comparisons: 10\n",
      "Permutation: (3, 5, 1, 2, 4), Comparisons: 10\n",
      "Permutation: (3, 5, 1, 4, 2), Comparisons: 10\n",
      "Permutation: (3, 5, 2, 1, 4), Comparisons: 10\n",
      "Permutation: (3, 5, 2, 4, 1), Comparisons: 10\n",
      "Permutation: (3, 5, 4, 1, 2), Comparisons: 10\n",
      "Permutation: (3, 5, 4, 2, 1), Comparisons: 10\n",
      "Permutation: (4, 1, 2, 3, 5), Comparisons: 10\n",
      "Permutation: (4, 1, 2, 5, 3), Comparisons: 10\n",
      "Permutation: (4, 1, 3, 2, 5), Comparisons: 10\n",
      "Permutation: (4, 1, 3, 5, 2), Comparisons: 10\n",
      "Permutation: (4, 1, 5, 2, 3), Comparisons: 10\n",
      "Permutation: (4, 1, 5, 3, 2), Comparisons: 10\n",
      "Permutation: (4, 2, 1, 3, 5), Comparisons: 10\n",
      "Permutation: (4, 2, 1, 5, 3), Comparisons: 10\n",
      "Permutation: (4, 2, 3, 1, 5), Comparisons: 10\n",
      "Permutation: (4, 2, 3, 5, 1), Comparisons: 10\n",
      "Permutation: (4, 2, 5, 1, 3), Comparisons: 10\n",
      "Permutation: (4, 2, 5, 3, 1), Comparisons: 10\n",
      "Permutation: (4, 3, 1, 2, 5), Comparisons: 10\n",
      "Permutation: (4, 3, 1, 5, 2), Comparisons: 10\n",
      "Permutation: (4, 3, 2, 1, 5), Comparisons: 10\n",
      "Permutation: (4, 3, 2, 5, 1), Comparisons: 10\n",
      "Permutation: (4, 3, 5, 1, 2), Comparisons: 10\n",
      "Permutation: (4, 3, 5, 2, 1), Comparisons: 10\n",
      "Permutation: (4, 5, 1, 2, 3), Comparisons: 10\n",
      "Permutation: (4, 5, 1, 3, 2), Comparisons: 10\n",
      "Permutation: (4, 5, 2, 1, 3), Comparisons: 10\n",
      "Permutation: (4, 5, 2, 3, 1), Comparisons: 10\n",
      "Permutation: (4, 5, 3, 1, 2), Comparisons: 10\n",
      "Permutation: (4, 5, 3, 2, 1), Comparisons: 10\n",
      "Permutation: (5, 1, 2, 3, 4), Comparisons: 10\n",
      "Permutation: (5, 1, 2, 4, 3), Comparisons: 10\n",
      "Permutation: (5, 1, 3, 2, 4), Comparisons: 10\n",
      "Permutation: (5, 1, 3, 4, 2), Comparisons: 10\n",
      "Permutation: (5, 1, 4, 2, 3), Comparisons: 10\n",
      "Permutation: (5, 1, 4, 3, 2), Comparisons: 10\n",
      "Permutation: (5, 2, 1, 3, 4), Comparisons: 10\n",
      "Permutation: (5, 2, 1, 4, 3), Comparisons: 10\n",
      "Permutation: (5, 2, 3, 1, 4), Comparisons: 10\n",
      "Permutation: (5, 2, 3, 4, 1), Comparisons: 10\n",
      "Permutation: (5, 2, 4, 1, 3), Comparisons: 10\n",
      "Permutation: (5, 2, 4, 3, 1), Comparisons: 10\n",
      "Permutation: (5, 3, 1, 2, 4), Comparisons: 10\n",
      "Permutation: (5, 3, 1, 4, 2), Comparisons: 10\n",
      "Permutation: (5, 3, 2, 1, 4), Comparisons: 10\n",
      "Permutation: (5, 3, 2, 4, 1), Comparisons: 10\n",
      "Permutation: (5, 3, 4, 1, 2), Comparisons: 10\n",
      "Permutation: (5, 3, 4, 2, 1), Comparisons: 10\n",
      "Permutation: (5, 4, 1, 2, 3), Comparisons: 10\n",
      "Permutation: (5, 4, 1, 3, 2), Comparisons: 10\n",
      "Permutation: (5, 4, 2, 1, 3), Comparisons: 10\n",
      "Permutation: (5, 4, 2, 3, 1), Comparisons: 10\n",
      "Permutation: (5, 4, 3, 1, 2), Comparisons: 10\n",
      "Permutation: (5, 4, 3, 2, 1), Comparisons: 10\n"
     ]
    }
   ],
   "source": [
    "def bubble_sort_count_comparisons(arr):\n",
    "    \"\"\"Bubble sort that counts the number of comparisons.\"\"\"\n",
    "    n = len(arr)\n",
    "    comparisons = 0\n",
    "    for i in range(n):\n",
    "        for j in range(0, n-i-1):\n",
    "            comparisons += 1\n",
    "            if arr[j] > arr[j+1]:\n",
    "                arr[j], arr[j+1] = arr[j+1], arr[j]\n",
    "    return comparisons\n",
    "\n",
    "L = [1, 2, 3, 4, 5]\n",
    "permutations = list(itertools.permutations(L))\n",
    "\n",
    "for perm in permutations:\n",
    "    perm_list = list(perm)\n",
    "    comparisons = bubble_sort_count_comparisons(perm_list)\n",
    "    print(f\"Permutation: {perm}, Comparisons: {comparisons}\")"
   ]
  }
 ],
 "metadata": {
  "kernelspec": {
   "display_name": "base",
   "language": "python",
   "name": "python3"
  },
  "language_info": {
   "codemirror_mode": {
    "name": "ipython",
    "version": 3
   },
   "file_extension": ".py",
   "mimetype": "text/x-python",
   "name": "python",
   "nbconvert_exporter": "python",
   "pygments_lexer": "ipython3",
   "version": "3.12.7"
  }
 },
 "nbformat": 4,
 "nbformat_minor": 2
}
