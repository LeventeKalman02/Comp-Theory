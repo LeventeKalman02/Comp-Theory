{
 "cells": [
  {
   "cell_type": "code",
   "execution_count": 14,
   "metadata": {},
   "outputs": [
    {
     "data": {
      "text/plain": [
       "\"\\nTask 1: Binary Representations\\n\\nCreate the following functions in Python, demonstrating their use with examples and tests.\\n\\n1. The function rotl(x, n=1) that rotates the bits in a 32-bit unsigned integer to the left n places.\\n\\n2. The function rotr(x, n=1) that rotates the bits in a 32-bit unsigned integer to the right n places.\\n\\n3. The function ch(x, y, z) that chooses the bits from y where x has bits set to 1 and bits in z where x has bits set to 0.\\n\\n4. The function maj(x, y, z) which takes a majority vote of the bits in x, y, and z. \\nThe output should have a 1 in bit position i where at least two of x, y, and z have 1's in position i.\\nAll other output bit positions should be 0.\\n\""
      ]
     },
     "execution_count": 14,
     "metadata": {},
     "output_type": "execute_result"
    }
   ],
   "source": [
    "\"\"\"\n",
    "Task 1: Binary Representations\n",
    "\n",
    "Create the following functions in Python, demonstrating their use with examples and tests.\n",
    "\n",
    "1. The function rotl(x, n=1) that rotates the bits in a 32-bit unsigned integer to the left n places.\n",
    "\n",
    "2. The function rotr(x, n=1) that rotates the bits in a 32-bit unsigned integer to the right n places.\n",
    "\n",
    "3. The function ch(x, y, z) that chooses the bits from y where x has bits set to 1 and bits in z where x has bits set to 0.\n",
    "\n",
    "4. The function maj(x, y, z) which takes a majority vote of the bits in x, y, and z. \n",
    "The output should have a 1 in bit position i where at least two of x, y, and z have 1's in position i.\n",
    "All other output bit positions should be 0.\n",
    "\"\"\""
   ]
  },
  {
   "cell_type": "code",
   "execution_count": 15,
   "metadata": {},
   "outputs": [],
   "source": [
    "# Function to rotate left\n",
    "def rotl(x: int, n: int = 1) -> int:\n",
    "    \"\"\"Rotate the bits in a 32-bit unsigned integer to the left n places.\"\"\"\n",
    "    n = n % 32  # Ensure n is within a valid range\n",
    "    return ((x << n) | (x >> (32 - n))) & 0xFFFFFFFF"
   ]
  },
  {
   "cell_type": "code",
   "execution_count": 16,
   "metadata": {},
   "outputs": [],
   "source": [
    "# Function to rotate right\n",
    "def rotr(x: int, n: int = 1) -> int:\n",
    "    \"\"\"Rotate the bits in a 32-bit unsigned integer to the right n places.\"\"\"\n",
    "    n = n % 32  # Ensure n is within a valid range\n",
    "    return ((x >> n) | (x << (32 - n))) & 0xFFFFFFFF\n"
   ]
  },
  {
   "cell_type": "code",
   "execution_count": 17,
   "metadata": {},
   "outputs": [],
   "source": [
    "# Function that chooses the bits\n",
    "def ch(x: int, y: int, z: int) -> int:\n",
    "    \"\"\"Choose bits from y where x has bits set to 1, and bits from z where x has bits set to 0.\"\"\"\n",
    "    return (x & y) | (~x & z)\n"
   ]
  },
  {
   "cell_type": "code",
   "execution_count": 18,
   "metadata": {},
   "outputs": [],
   "source": [
    "# Function that takes the majority vote\n",
    "def maj(x: int, y: int, z: int) -> int:\n",
    "    \"\"\"Majority function: bit is 1 where at least two of x, y, z have 1's.\"\"\"\n",
    "    return (x & y) | (x & z) | (y & z)"
   ]
  },
  {
   "cell_type": "code",
   "execution_count": 19,
   "metadata": {},
   "outputs": [
    {
     "name": "stdout",
     "output_type": "stream",
     "text": [
      "rotl(0b10101010101010101010101010101010, 3)  -> 0b1010101010101010101010101010101\n",
      "rotr(0b10101010101010101010101010101010, 3)  -> 0b1010101010101010101010101010101\n",
      "ch(0b10101010101010101010101010101010, 0b11001100110011001100110011001100, 0b11110000111100001111000011110000) -> 0b11011000110110001101100011011000\n",
      "maj(0b10101010101010101010101010101010, 0b11001100110011001100110011001100, 0b11110000111100001111000011110000) -> 0b11101000111010001110100011101000\n"
     ]
    },
    {
     "ename": "AssertionError",
     "evalue": "",
     "output_type": "error",
     "traceback": [
      "\u001b[1;31m---------------------------------------------------------------------------\u001b[0m",
      "\u001b[1;31mAssertionError\u001b[0m                            Traceback (most recent call last)",
      "Cell \u001b[1;32mIn[19], line 15\u001b[0m\n\u001b[0;32m     13\u001b[0m \u001b[38;5;28;01massert\u001b[39;00m rotl(\u001b[38;5;241m0x12345678\u001b[39m, \u001b[38;5;241m4\u001b[39m) \u001b[38;5;241m==\u001b[39m \u001b[38;5;241m0x23456781\u001b[39m\n\u001b[0;32m     14\u001b[0m \u001b[38;5;28;01massert\u001b[39;00m rotr(\u001b[38;5;241m0x12345678\u001b[39m, \u001b[38;5;241m4\u001b[39m) \u001b[38;5;241m==\u001b[39m \u001b[38;5;241m0x81234567\u001b[39m\n\u001b[1;32m---> 15\u001b[0m \u001b[38;5;28;01massert\u001b[39;00m ch(\u001b[38;5;241m0xF0F0F0F0\u001b[39m, \u001b[38;5;241m0xAAAAAAAA\u001b[39m, \u001b[38;5;241m0x55555555\u001b[39m) \u001b[38;5;241m==\u001b[39m \u001b[38;5;241m0xAAAA5555\u001b[39m\n\u001b[0;32m     16\u001b[0m \u001b[38;5;28;01massert\u001b[39;00m maj(\u001b[38;5;241m0xF0F0F0F0\u001b[39m, \u001b[38;5;241m0xAAAAAAAA\u001b[39m, \u001b[38;5;241m0x55555555\u001b[39m) \u001b[38;5;241m==\u001b[39m \u001b[38;5;241m0xF0F0F0F0\u001b[39m\n\u001b[0;32m     18\u001b[0m \u001b[38;5;66;03m# New test cases\u001b[39;00m\n",
      "\u001b[1;31mAssertionError\u001b[0m: "
     ]
    }
   ],
   "source": [
    "# Test function of Task 1\n",
    "# Example usage and tests\n",
    "if __name__ == \"__main__\":\n",
    "    # Test values\n",
    "    x, y, z = 0b10101010101010101010101010101010, 0b11001100110011001100110011001100, 0b11110000111100001111000011110000\n",
    "    \n",
    "    print(f\"rotl({bin(x)}, 3)  -> {bin(rotl(x, 3))}\")\n",
    "    print(f\"rotr({bin(x)}, 3)  -> {bin(rotr(x, 3))}\")\n",
    "    print(f\"ch({bin(x)}, {bin(y)}, {bin(z)}) -> {bin(ch(x, y, z))}\")\n",
    "    print(f\"maj({bin(x)}, {bin(y)}, {bin(z)}) -> {bin(maj(x, y, z))}\")\n",
    "    \n",
    "    # Additional tests\n",
    "    assert rotl(0x12345678, 4) == 0x23456781\n",
    "    assert rotr(0x12345678, 4) == 0x81234567\n",
    "    assert ch(0xF0F0F0F0, 0xAAAAAAAA, 0x55555555) == 0xAAAA5555\n",
    "    assert maj(0xF0F0F0F0, 0xAAAAAAAA, 0x55555555) == 0xF0F0F0F0\n",
    "    \n",
    "    # New test cases\n",
    "    assert ch(0xFFFFFFFF, 0xAAAAAAAA, 0x55555555) == 0xAAAAAAAA\n",
    "    assert maj(0xAAAAAAAA, 0xAAAAAAAA, 0x55555555) == 0xAAAAAAAA\n",
    "    assert ch(0x00000000, 0xAAAAAAAA, 0x55555555) == 0x55555555\n",
    "    assert maj(0xFFFFFFFF, 0xFFFFFFFF, 0x00000000) == 0xFFFFFFFF  \n",
    "    \n",
    "    print(\"All tests passed!\")"
   ]
  }
 ],
 "metadata": {
  "kernelspec": {
   "display_name": "Python 3",
   "language": "python",
   "name": "python3"
  },
  "language_info": {
   "codemirror_mode": {
    "name": "ipython",
    "version": 3
   },
   "file_extension": ".py",
   "mimetype": "text/x-python",
   "name": "python",
   "nbconvert_exporter": "python",
   "pygments_lexer": "ipython3",
   "version": "3.12.7"
  }
 },
 "nbformat": 4,
 "nbformat_minor": 2
}
