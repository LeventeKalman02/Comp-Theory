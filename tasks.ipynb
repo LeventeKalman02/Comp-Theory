{
 "cells": [
  {
   "cell_type": "markdown",
   "metadata": {},
   "source": [
    "**Task 1: Binary Representations**\n",
    "==============================\n",
    "\n",
    "Create the following functions in Python, demonstrating their use with examples and tests.\n",
    "\n",
    "1. The function **rotl(x, n=1)** that rotates the bits in a 32-bit unsigned integer to the left n places.\n",
    "\n",
    "2. The function **rotr(x, n=1)** that rotates the bits in a 32-bit unsigned integer to the right n places.\n",
    "\n",
    "3. The function **ch(x, y, z)** that chooses the bits from y where x has bits set to 1 and bits in z where x has bits set to 0.\n",
    "\n",
    "4. The function **maj(x, y, z)** which takes a majority vote of the bits in x, y, and z. \n",
    "The output should have a 1 in bit position i where at least two of x, y, and z have 1's in position i.\n",
    "All other output bit positions should be 0."
   ]
  },
  {
   "cell_type": "code",
   "execution_count": 5,
   "metadata": {},
   "outputs": [],
   "source": [
    "# Function to rotate left\n",
    "def rotl(x: int, n: int = 1) -> int:\n",
    "    \"\"\"Rotate the bits in a 32-bit unsigned integer to the left n places.\"\"\"\n",
    "    n = n % 32  # Ensure n is within a valid range\n",
    "    return ((x << n) | (x >> (32 - n))) & 0xFFFFFFFF"
   ]
  },
  {
   "cell_type": "code",
   "execution_count": 6,
   "metadata": {},
   "outputs": [],
   "source": [
    "# Function to rotate right\n",
    "def rotr(x: int, n: int = 1) -> int:\n",
    "    \"\"\"Rotate the bits in a 32-bit unsigned integer to the right n places.\"\"\"\n",
    "    n = n % 32  # Ensure n is within a valid range\n",
    "    return ((x >> n) | (x << (32 - n))) & 0xFFFFFFFF\n"
   ]
  },
  {
   "cell_type": "code",
   "execution_count": 7,
   "metadata": {},
   "outputs": [],
   "source": [
    "# Function that chooses the bits\n",
    "def ch(x: int, y: int, z: int) -> int:\n",
    "    \"\"\"Choose bits from y where x has bits set to 1, and bits from z where x has bits set to 0.\"\"\"\n",
    "    return (x & y) | (~x & z)\n"
   ]
  },
  {
   "cell_type": "code",
   "execution_count": 8,
   "metadata": {},
   "outputs": [],
   "source": [
    "# Function that takes the majority vote\n",
    "def maj(x: int, y: int, z: int) -> int:\n",
    "    \"\"\"Majority function: bit is 1 where at least two of x, y, z have 1's.\"\"\"\n",
    "    return (x & y) | (x & z) | (y & z)"
   ]
  },
  {
   "cell_type": "code",
   "execution_count": null,
   "metadata": {},
   "outputs": [],
   "source": [
    "# Test function of Task 1\n",
    "# Example usage and tests\n",
    "if __name__ == \"__main__\":\n",
    "    # Test values\n",
    "    x, y, z = 0b10101010101010101010101010101010, 0b11001100110011001100110011001100, 0b11110000111100001111000011110000\n",
    "    \n",
    "    print(f\"rotl({bin(x)}, 3)  -> {bin(rotl(x, 3))}\")\n",
    "    print(f\"rotr({bin(x)}, 3)  -> {bin(rotr(x, 3))}\")\n",
    "    print(f\"ch({bin(x)}, {bin(y)}, {bin(z)}) -> {bin(ch(x, y, z))}\")\n",
    "    print(f\"maj({bin(x)}, {bin(y)}, {bin(z)}) -> {bin(maj(x, y, z))}\")\n",
    "    \n",
    "    # Additional tests\n",
    "    assert rotl(0x12345678, 4) == 0x23456781\n",
    "    assert rotr(0x12345678, 4) == 0x81234567\n",
    "    assert ch(0xF0F0F0F0, 0xAAAAAAAA, 0x55555555) == 0xAAAA5555\n",
    "    assert maj(0xF0F0F0F0, 0xAAAAAAAA, 0x55555555) == 0xF0F0F0F0\n",
    "    \n",
    "    # New test cases\n",
    "    assert ch(0xFFFFFFFF, 0xAAAAAAAA, 0x55555555) == 0xAAAAAAAA\n",
    "    assert maj(0xAAAAAAAA, 0xAAAAAAAA, 0x55555555) == 0xAAAAAAAA\n",
    "    assert ch(0x00000000, 0xAAAAAAAA, 0x55555555) == 0x55555555\n",
    "    assert maj(0xFFFFFFFF, 0xFFFFFFFF, 0x00000000) == 0xFFFFFFFF  \n",
    "    \n",
    "    print(\"All tests passed!\")"
   ]
  },
  {
   "cell_type": "markdown",
   "metadata": {},
   "source": [
    "**Task 2: Hash Functions**\n",
    "======================\n",
    "\n",
    "The following hash function is from The C Programming Language by Brian Kernighan and Dennis Ritchie.\n",
    "\n",
    "Convert it to Python, test it, and suggest why the values 31 and 101 are used.\n",
    "\n",
    "```\n",
    "unsigned hash(char *s) {\n",
    "    unsigned hashval;\n",
    "    for (hashval = 0; *s != '\\0'; s++)\n",
    "        hashval = *s + 31 * hashval;\n",
    "    return hashval % 101;\n",
    "}\n",
    "```\n"
   ]
  },
  {
   "cell_type": "code",
   "execution_count": 3,
   "metadata": {},
   "outputs": [],
   "source": [
    "def kr_hash(s: str) -> int:\n",
    "    #Kernighan & Ritchie hash function implementation in Python.\n",
    "    hashval = 0\n",
    "    for char in s:\n",
    "        hashval = ord(char) + 31 * hashval\n",
    "    return hashval % 101\n"
   ]
  },
  {
   "cell_type": "code",
   "execution_count": null,
   "metadata": {},
   "outputs": [],
   "source": [
    "#Test Case for Task 2\n",
    "# Test cases\n",
    "if __name__ == \"__main__\":\n",
    "    test_strings = [\"hello\", \"world\", \"python\", \"hash\", \"function\"]\n",
    "    for s in test_strings:\n",
    "        print(f\"kr_hash('{s}') = {kr_hash(s)}\")\n",
    "    \n",
    "    # Assertions for correctness\n",
    "    assert kr_hash(\"hello\") == kr_hash(\"hello\")  # Consistency check\n",
    "    assert kr_hash(\"abc\") != kr_hash(\"acb\")  # Small changes should lead to different hashes\n",
    "    print(\"All tests passed!\")\n"
   ]
  },
  {
   "cell_type": "markdown",
   "metadata": {},
   "source": [
    "Explanation of Constants:\n",
    "\n",
    "31 as a multiplier:\n",
    "\n",
    "31 is chosen because it is a prime number, which helps evenly distribute hash values and reduce collisions.\n",
    "It provides a good balance between performance and distribution.\n",
    "\n",
    "101 as a modulus:\n",
    "\n",
    "101 is also a prime number, ensuring better dispersion of hash values.\n",
    "It keeps the hash values in a manageable range, preventing overflow in constrained environments."
   ]
  },
  {
   "cell_type": "markdown",
   "metadata": {},
   "source": [
    "**Task 3: SHA256**\n",
    "==============\n",
    "\n",
    "Write a Python function that calculates the SHA256 padding for a given file.\n",
    "The function should take a file path as input.\n",
    "It should print, in hex, the padding that would be applied to it.\n",
    "The specification states that the following should be appended to a message:\n",
    "\n",
    "- a1 bit;\n",
    "- enough 0 bits so the length in bits of padded message is the smallest possible multiple of 512;\n",
    "- the length in bits of the original input as a big-endian 64-bit unsigned integer.\n",
    "\n",
    "The example in the specification is a file containing the three bytes abc:\n",
    "\n",
    "``\n",
    "01100001 01100010 01100011\n",
    "``\n",
    "\n",
    "The output would be:\n",
    "\n",
    "``\n",
    "80 00 00 00 00 00 00 00 00 00 00 00 00 00 00 00 00 00 00 00 00 00 00 00 00 00\n",
    "00 00 00 00 00 00 00 00 00 00 00 00 00 00 00 00 00 00 00 00 00 00 00 00 00 00\n",
    "00 00 00 00 00 00 00 00 18\n",
    "``"
   ]
  },
  {
   "cell_type": "code",
   "execution_count": null,
   "metadata": {},
   "outputs": [],
   "source": [
    "import os\n",
    "\n",
    "def sha256_padding(file_path: str):\n",
    "    \"\"\"Calculate and print SHA-256 padding for a given file.\"\"\"\n",
    "    file_size = os.path.getsize(file_path)\n",
    "    bit_length = file_size * 8\n",
    "    \n",
    "    padding = b'\\x80'  # Append a single '1' bit (0x80 in hex)\n",
    "    padding_length = (56 - (file_size + 1) % 64) % 64\n",
    "    padding += b'\\x00' * padding_length\n",
    "    padding += bit_length.to_bytes(8, 'big')\n",
    "    \n",
    "    print(\"Padding (hex):\", padding.hex())"
   ]
  }
 ],
 "metadata": {
  "kernelspec": {
   "display_name": "Python 3",
   "language": "python",
   "name": "python3"
  },
  "language_info": {
   "codemirror_mode": {
    "name": "ipython",
    "version": 3
   },
   "file_extension": ".py",
   "mimetype": "text/x-python",
   "name": "python",
   "nbconvert_exporter": "python",
   "pygments_lexer": "ipython3",
   "version": "3.12.7"
  }
 },
 "nbformat": 4,
 "nbformat_minor": 2
}
